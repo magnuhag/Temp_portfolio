{
 "cells": [
  {
   "cell_type": "markdown",
   "metadata": {},
   "source": [
    "# Project 2 FYS-STK3155\n"
   ]
  },
  {
   "cell_type": "markdown",
   "metadata": {},
   "source": [
    "Preface: for understanding what's going on in this raport, it is suggested you first read [1]. Some of the key aspects we will discuss, and build upon, is based directly on that earlier work. "
   ]
  },
  {
   "cell_type": "markdown",
   "metadata": {},
   "source": [
    "## 1. Introduction\n"
   ]
  },
  {
   "cell_type": "markdown",
   "metadata": {},
   "source": [
    "## 1.1\n",
    "\n",
    "When doing machinge learning, one crucial tasks is finding the minimum of a chosen cost function. That is, the global minimum a function evaluating the accuracy, precision, error, etc, of a model. Minimizing this cost function is equivalent to minimizing the error in the model.\n",
    "\n",
    "We have previously found that certain cost functions (for example mean squared error (MSE)) has analytic solutions to their global minimum [1]. But this is not always the case.\n",
    "\n",
    "When working on certain kinds of problems, the cost function is not always as simple as the MSE cost function. We will in this project make use of mini-batch gradient descent to find the minimum of a cost function (MSE), and compare the result to the analytical solution.\n"
   ]
  },
  {
   "cell_type": "markdown",
   "metadata": {},
   "source": [
    "## 1.2\n",
    "\n",
    "Until now we have for the most part concerned ourselves with doing regression using either analytical solutions to gradients of cost functions, or used SGD as an approximation.\n",
    "\n",
    "We will in this part extend our arsenal of tools for these kinds of problems. And our new tool will be a feed forward neural network.\n",
    "\n",
    "Neural networks (NN) are in essence computer models of how neurons work in the brain, though vastly simplified. In the most basic sense, NNs have an input layer, consisting of a number of nodes, receiving the data which we want to model. Thereafter, this input layer feeds this input data to a new, hidden, layer. During this process, data sent from the input layer to the hidden layer is multiplied by some weights, and a bias is added. \n",
    "This process is repeated for a given number of layers.\n",
    "\n",
    "Eventually, the data being sent through all the hidden layers will reach an output layer. The output layer is the predictor in the NN, and here the error is calculated.\n",
    "\n",
    "The error in the output layer is then propagated backwards through the hidden layers, adjusting the weights and the biases on the way.\n",
    "\n",
    "When this process is done, we repeat it a given number of times (epochs).\n",
    "After these epochs, we will have trained the NN, and we can make predictions with it.\n",
    "\n",
    "In this project we want to use this NN for both regression and classification.\n",
    "\n",
    "By classification we mean (spesifically in this case) image recognition. We will use the MNIST dataset of images. These images are hand drawn numbers between, and including, 0 and 9, each with a label indicating which number it depicts. \n"
   ]
  },
  {
   "cell_type": "markdown",
   "metadata": {},
   "source": [
    "## 2.1 Theroy"
   ]
  },
  {
   "cell_type": "markdown",
   "metadata": {},
   "source": [
    "For the first few parts of this project we will use the Franke function (with added normally distributed noise) as a data generator, as described in [1].\n",
    "\n",
    "We will investigate the use of SGD on a cost function whose global minumum is known, so we can compare results. \n",
    "From [1] we found that if we have a cost function\n",
    "\n",
    "\\begin{equation}\n",
    "C(\\beta)=\\frac{1}{n}\\sum_{i=0}^{n-1}(y_i-\\tilde{y})^2=(y-\\tilde{y})^T(y-\\tilde{y})\n",
    "\\end{equation}\n",
    "Where $n$ is the number of datapoints, $y$ is the data we are trying to fit, and $\\tilde{y}=X\\beta$ is our model [1].  It can be shown [1] that the gradient of this cost function is\n",
    "\n"
   ]
  },
  {
   "cell_type": "markdown",
   "metadata": {},
   "source": [
    "$$\n",
    "\\frac{\\partial}{\\partial\\beta}(y-X\\beta)^T(y-X\\beta)=-\\frac{2}{n}X^T(y-X\\beta)\n",
    "$$"
   ]
  },
  {
   "cell_type": "markdown",
   "metadata": {},
   "source": [
    "Solving $\\frac{\\partial C(\\beta)}{\\partial\\beta}=0$, gives us \n"
   ]
  },
  {
   "cell_type": "markdown",
   "metadata": {},
   "source": [
    "$$\\hat{\\beta}=(X^TX)^{-1}X^Ty \\tag{2}$$"
   ]
  },
  {
   "cell_type": "markdown",
   "metadata": {},
   "source": [
    "Where $\\hat{\\beta}$ is the optimal $\\beta$, that is, the values at which $\\frac{\\partial C(\\beta)}{\\partial\\beta}=0$. \n",
    "\n"
   ]
  },
  {
   "cell_type": "markdown",
   "metadata": {},
   "source": [
    "Now we have an expression to which we can compare our SGD results. But first, we must define the SGD method.\n",
    "\n",
    "We start by considering Newton's method [2]:\n",
    "\n",
    "\n",
    "\n"
   ]
  },
  {
   "cell_type": "markdown",
   "metadata": {},
   "source": [
    "$$x_{n+1} = x_n -\\frac{f(x_n)}{f'(x_n)}\n",
    "\\tag{3}\n",
    "$$"
   ]
  },
  {
   "cell_type": "markdown",
   "metadata": {},
   "source": [
    "This is an iterative process, where $x_{n+1}$ is an updated approximation of a minimum of a function $f(x)$, and where $x_0$ will have to be guesstimated.\n",
    "In a single variable case, this is a very neat and simple expression, but not very useful as it stands."
   ]
  },
  {
   "cell_type": "markdown",
   "metadata": {},
   "source": [
    "For the multivariable case, and remember: $y, \\beta$, etc are vectors, we can define the gradient of the cost function, and an equivalent to Newton's method [3]:\n"
   ]
  },
  {
   "cell_type": "markdown",
   "metadata": {},
   "source": [
    "$$\n",
    "\\nabla_\\beta C(\\mathbf{\\beta}) = \\sum_i^n \\nabla_\\beta c_i(\\mathbf{x}_i,\n",
    "\\mathbf{\\beta}).\n",
    "\\tag{4}\n",
    "$$"
   ]
  },
  {
   "cell_type": "markdown",
   "metadata": {},
   "source": [
    "In other words: we sum the gradients over $n$ datapoints $\\mathbf{x}_i$, resulting in the gradient of the cost function.\n",
    "Now if we divide our data into $B$ mini-batches, the gradient of one mini-batch is\n",
    "$$\n",
    "\\nabla_{\\beta}\n",
    "C(\\mathbf{\\beta}) =  \\sum_{i \\in B_k}^n \\nabla_\\beta\n",
    "c_i(\\mathbf{x}_i, \\mathbf{\\beta}).\n",
    "$$\n",
    "\n",
    "Hence, Newton's method takes the following form"
   ]
  },
  {
   "cell_type": "markdown",
   "metadata": {},
   "source": [
    "$$\n",
    "\\beta_{j+1} = \\beta_j - \\gamma_j \\sum_{i \\in B_k}^n \\nabla_\\beta c_i(\\mathbf{x}_i,\n",
    "\\mathbf{\\beta})\n",
    "\\tag{5}\n",
    "$$"
   ]
  },
  {
   "cell_type": "markdown",
   "metadata": {},
   "source": [
    "We have now introduced a parameter $\\gamma_j$. This is called the learning rate, and it's purpose is to scale the gradient.\n",
    "The benefit of having this learning rate might be obvious to some, but for those to whom this concept seems unintuitive, let me explain:\n",
    "When we make an initial guess at $\\beta_0$, we might be quite far away from the minumum we want to find. The negative gradient points in the direction of this minimum. So if we start with a relatively large learning rate $\\gamma_0$, we will make a large step towards the minimum. However, when we get close to the minimum, we want to take smaller and smaller steps towards it. If we don't do this, we might risk \"bouncing\" around the minumum, and never converging towards it.\n",
    "\n",
    "In light of that information, we define the learning rate to be a gradually descending parameter, controlling the rate at which we approach the minimum:\n",
    "\n"
   ]
  },
  {
   "cell_type": "markdown",
   "metadata": {},
   "source": [
    "$$\n",
    "\\gamma_j(t_j)=\\frac{t_0}{(t_j+t_1)}\n",
    "\\tag{5}\n",
    "$$"
   ]
  },
  {
   "cell_type": "markdown",
   "metadata": {},
   "source": [
    "Where, $t_0$ and $t_1$ are adjustable hyperparameters, and $t_j$ is an incrementally increasing value."
   ]
  },
  {
   "cell_type": "markdown",
   "metadata": {},
   "source": [
    "In summation:\n",
    "We guesstimate an initial $\\beta_0$, and shuffle our dataset randomly\n",
    "\n"
   ]
  },
  {
   "cell_type": "markdown",
   "metadata": {},
   "source": [
    "We spilt our data into $B$ mini-batches.\n"
   ]
  },
  {
   "cell_type": "markdown",
   "metadata": {},
   "source": [
    "We compute the gradient of one minibatch, then update $\\beta$\n"
   ]
  },
  {
   "cell_type": "markdown",
   "metadata": {},
   "source": [
    "We repeat this process for every minibatch"
   ]
  },
  {
   "cell_type": "markdown",
   "metadata": {},
   "source": [
    "This can be defined as one epoch. We can (and will) repeat this process for a number of \"epochs\" to obtain a better estimate of the true $\\hat{\\beta}$"
   ]
  },
  {
   "cell_type": "markdown",
   "metadata": {},
   "source": [
    "## 2.2\n",
    "\n",
    "The structure of a (feed-forward) NN can generally be represented as such"
   ]
  },
  {
   "cell_type": "markdown",
   "metadata": {},
   "source": [
    "<img src=\"nnill.png\" width=\"500\">"
   ]
  },
  {
   "cell_type": "markdown",
   "metadata": {},
   "source": [
    "As we can see, each node in a given layer connects to every other node in the next layer.\n",
    "\n",
    "As briefly touched upon in the introduction, NNs have an input layer. Let's say we want our NN to perform regression. Then we feed it some data $X$. Generally speaking, and in our case, $X$ will be a matrix, so the number of nodes in our input layer must be the same as the numbers of rows in $X$. \n",
    "Thereafter, the data is sent to the second layer (first hidden layer) by way of sending data from each node in the input layer to every node in the first hidden layer. Then it gets multiplied by some weights, and biases are added.\n",
    "\n",
    "Mathematically, this can be represented as"
   ]
  },
  {
   "cell_type": "markdown",
   "metadata": {},
   "source": [
    "$$z_i^1 = \\sum_{j=1}^{M} w_{ij}^1 x_j + b_i^1 \\tag{6}$$"
   ]
  },
  {
   "cell_type": "markdown",
   "metadata": {},
   "source": [
    "Here, $z_i^l$ is the input of the $i$-th node in the $l$-th layer, and each of the layers have a matrix of weights $w^l$, and a vector biases $b^l$. In this NN, as in the brain, each node must output something. This is generally when the input value of the node (or neuron) surpasses a certain threshold. We will go about it in a similar way. \n",
    "By defining an activation function we can \"control\" whether the node is activated or not, based on the magnitude of the input $z_i^l$"
   ]
  },
  {
   "cell_type": "markdown",
   "metadata": {},
   "source": [
    "We have a few different activation functions at our disposal. That is the Sigmoid function, RELU, and Leaky RELU, and the are defined as such:\n"
   ]
  },
  {
   "cell_type": "markdown",
   "metadata": {},
   "source": [
    "$$\n",
    "f_{Sigmoid}(z)=\\frac{1}{1+e^{-z}}\n",
    "\\tag{7}\n",
    "$$"
   ]
  },
  {
   "cell_type": "markdown",
   "metadata": {},
   "source": [
    "$$\n",
    "f_{RELU}(z)=z^+=max(z,0)\n",
    "\\tag{8}\n",
    "$$\n",
    "\n"
   ]
  },
  {
   "cell_type": "markdown",
   "metadata": {},
   "source": [
    "\n",
    "\\begin{equation}\n",
    "f_{Leaky}(z)=z, z>0\n",
    "\\end{equation}\n",
    "\\begin{equation}\n",
    "\\tag{9}\n",
    "\\end{equation}\n",
    "\n",
    "\\begin{equation}\n",
    "f_{Leaky}(z)=0.01z, else\n",
    "\\end{equation}"
   ]
  },
  {
   "cell_type": "markdown",
   "metadata": {},
   "source": [
    "In regression cases we don't need an activation function in the output layer, because it will already provide us with the coefficients we want."
   ]
  },
  {
   "cell_type": "markdown",
   "metadata": {},
   "source": [
    "When we've reached the output layer, we calculate the error, and propagate it backward to update the weights and biases. The derivation of this algorithm is clearly explained in [3], so i will only present the results.\n",
    "For the output layer we have:"
   ]
  },
  {
   "cell_type": "markdown",
   "metadata": {},
   "source": [
    "\n",
    "$$\\frac{\\partial{\\cal C}(\\hat{W^L})}{\\partial w_{jk}^L} = \\delta_j^La_k^{L-1} \\tag{10} $$\n",
    "\n",
    "$$\\delta_j^L = f'(z_j^L)\\frac{\\partial {\\cal C}}{\\partial (a_j^L)} \\tag{11} $$\n",
    "\n",
    "$$\\delta_j^L = \\frac{\\partial {\\cal C}}{\\partial b_j^L} \\tag{12}  $$"
   ]
  },
  {
   "cell_type": "markdown",
   "metadata": {},
   "source": [
    "Where, $$\\frac{\\partial{\\cal C}(\\hat{W^L})}{\\partial w_{jk}^L}$$ is the partial derivative of the output weight matrix, with respect to the weights of each node, $a_k^{L-1}$ is the activation ($f(z)$) of node $k$ in layer $L-1$\n"
   ]
  },
  {
   "cell_type": "markdown",
   "metadata": {},
   "source": [
    "$\\delta_j^L$ is the error in node $k$, of the output layer."
   ]
  },
  {
   "cell_type": "markdown",
   "metadata": {},
   "source": [
    "When propagating this error backwards we get [3]"
   ]
  },
  {
   "cell_type": "markdown",
   "metadata": {},
   "source": [
    "$$\n",
    "\\delta_j^L = f'(z_j^L)\\frac{\\partial {\\cal C}}{\\partial (a_j^L)} \\tag{13}\n",
    "$$\n",
    "\n",
    "$$\n",
    "\\delta_j^l = \\sum_k \\delta_k^{l+1}w_{kj}^{l+1}f'(z_j^l)  \\tag{14}\n",
    "$$\n",
    "\n",
    "$$\n",
    "w_{jk}^l\\leftarrow  = w_{jk}^l- \\eta \\delta_j^la_k^{l-1}  \\tag{15}\n",
    "$$\n",
    "$$\n",
    "b_j^l \\leftarrow b_j^l-\\eta \\frac{\\partial {\\cal C}}{\\partial b_j^l}=b_j^l-\\eta \\delta_j^l \\tag{16}\n",
    "$$"
   ]
  },
  {
   "cell_type": "markdown",
   "metadata": {},
   "source": [
    "Where $l=L-1, L-2, ...$ where $L$ denotes the output layer"
   ]
  },
  {
   "cell_type": "markdown",
   "metadata": {},
   "source": [
    "We have up until now discussed NNs for regression cases. This is not the only thing we want to use it for. We also want it to be able to handle classification.\n",
    "\n",
    "This case is quite similar to the regression case, but we add a so called soft max activation function to the output layer. It is defined as such\n",
    "\n",
    "$$\\sigma(z^L)=\\frac{e^{z^L}}{\\sum e^{z^L}}  \\tag{17}$$\n"
   ]
  },
  {
   "cell_type": "markdown",
   "metadata": {},
   "source": [
    "Where the length of the vector $z$ must be equal to the number of different classes we are provided with. In other words, the output layer has the same size as possible classes to predict."
   ]
  },
  {
   "cell_type": "markdown",
   "metadata": {},
   "source": [
    "In our case, we have a dataset of labeled, handwritten numbers. We can, in our output layer, find the probability of each number being predicted by the following function [4]"
   ]
  },
  {
   "cell_type": "markdown",
   "metadata": {},
   "source": [
    "$$ P(\\text{class $j$} \\mid \\text{input $\\hat{a}$}) = \\frac{\\exp{(\\hat{a}^T \\hat{w}_j)}} {\\sum_{c=0}^{9} \\exp{(\\hat{a}^T \\hat{w}_c)}} $$"
   ]
  },
  {
   "cell_type": "markdown",
   "metadata": {},
   "source": [
    "Again, this will return us a vector where each element is the probability of predicting a certain number. We make our prediction by chosing the element in the vector with the highest probability. Then we propagate the error backwards, as decribed in (13)-(16)."
   ]
  },
  {
   "cell_type": "markdown",
   "metadata": {},
   "source": [
    "In the end we want to find the accuracy of the network. This is done by summing over all the correct predictions, and dividing by the total number of predictions:\n",
    "$$accuracy = \\frac{1}{n_{predictions}}\\sum_{i=1}^{n_{predictions}}I(y=\\tilde{y})$$\n",
    "where $y$ is the true value, and $\\tilde{y}$ is the predicted value"
   ]
  },
  {
   "cell_type": "markdown",
   "metadata": {},
   "source": [
    "## 3. Method/ code/ results"
   ]
  },
  {
   "cell_type": "markdown",
   "metadata": {},
   "source": [
    "We recycle some of the code we used in [1], and make some imports"
   ]
  },
  {
   "cell_type": "code",
   "execution_count": 2,
   "metadata": {},
   "outputs": [],
   "source": [
    "import numpy as np\n",
    "from numba import jit\n",
    "from sklearn.model_selection import train_test_split\n",
    "from sklearn.utils import shuffle\n",
    "from sklearn.preprocessing import StandardScaler\n",
    "import matplotlib.pyplot as plt"
   ]
  },
  {
   "cell_type": "code",
   "execution_count": 3,
   "metadata": {},
   "outputs": [],
   "source": [
    "\n",
    "\n",
    "class Franke:\n",
    "    def __init__(self, x, y, n, noise):\n",
    "        self.x = x\n",
    "        self.y = y\n",
    "        self.n = n\n",
    "        self.noise = noise\n",
    "        \n",
    "    def func_eval(self, x, y):\n",
    "        ledd1 = 3/4.0*np.exp(-(9*x-2)**2/4-(9*y-2)**2/4)\n",
    "        ledd2 = 3/4.0*np.exp(-(9*x+1)**2/49-(9*y+1)/10)\n",
    "        ledd3 = 1/2.0*np.exp(-(9*x-7)**2/4-(9*y-3)**2/4)\n",
    "        ledd4 = -1/5.0*np.exp(-(9*x-4)**2-(9*y-7)**2)\n",
    "        if self.noise == True:\n",
    "            return ledd1+ledd2+ledd3+ledd4 + 0.01*np.random.normal(0,1,self.n)\n",
    "        else:\n",
    "            return ledd1+ledd2+ledd3+ledd4\n",
    "        \n",
    "    def plot(self):\n",
    "        from mpl_toolkits import mplot3d\n",
    "        X, Y = np.meshgrid(np.sort(self.x), np.sort(self.y))\n",
    "        z = Franke.func_eval(self, X, Y)\n",
    "        #Plotting the Frake function\n",
    "        fig1 = plt.figure(figsize=(10,10))\n",
    "        ax = plt.axes(projection='3d')\n",
    "        ax.plot_surface(X, Y, z)\n",
    "        plt.xlabel(\"x\")\n",
    "        plt.ylabel(\"y\")\n",
    "        if self.noise == True:\n",
    "            plt.title(\"Franke Function with noise = 0.01*N(0, 1)\")\n",
    "        else:\n",
    "            plt.title(\"Franke Function without noise\")\n",
    "        plt.show()\n",
    "    "
   ]
  },
  {
   "cell_type": "code",
   "execution_count": 4,
   "metadata": {},
   "outputs": [],
   "source": [
    "n = 300 #number of datapoints\n",
    "np.random.seed(666)\n",
    "\n",
    "x = np.random.uniform(0, 1, n)\n",
    "y = np.random.uniform(0, 1, n)\n",
    "franke_noise = Franke(x, y, n, noise = True)\n",
    "z = franke_noise.func_eval(x, y)"
   ]
  },
  {
   "cell_type": "code",
   "execution_count": 5,
   "metadata": {},
   "outputs": [],
   "source": [
    "@jit(nopython=True)\n",
    "def X_d(degree, x, y):\n",
    "    if len(x.shape) > 1:\n",
    "            x = np.ravel(x)\n",
    "            y = np.ravel(y)\n",
    "    N = len(x)\n",
    "    l = int((degree+1)*(degree+2)/2)          # Number of elements in beta\n",
    "    X = np.ones((N,l))\n",
    "\n",
    "    for i in range(1,degree+1):\n",
    "            q = int((i)*(i+1)/2)\n",
    "            for k in range(i+1):\n",
    "                    X[:,q+k] = (x**(i-k))*(y**k)\n",
    "    return X"
   ]
  },
  {
   "cell_type": "markdown",
   "metadata": {},
   "source": [
    "It might be handy to be able to scale the data. Why this is, is a discussion for another time, but in short: we do it because the data $X$ might have values of vastly different sizes (orders of magnitude), and this may introduce problems when we're modelling data.\n",
    "<br>\n",
    "Scaling is not always the way to go, and in the following I have tried both with and without scaled data, and selected the model which yielded the lowest error.\n",
    "<br>\n",
    "We define a scaler:"
   ]
  },
  {
   "cell_type": "code",
   "execution_count": 6,
   "metadata": {},
   "outputs": [],
   "source": [
    "def Scaler(X):\n",
    "    mu = np.mean(X[:,1:])\n",
    "    sigma = np.std(X[:,1:])\n",
    "    X_scaled = (X[:,1:]-mu)/sigma\n",
    "    return X_scaled, mu, sigma"
   ]
  },
  {
   "cell_type": "markdown",
   "metadata": {},
   "source": [
    "We can now write a simple SGD function:\n"
   ]
  },
  {
   "cell_type": "code",
   "execution_count": 7,
   "metadata": {},
   "outputs": [],
   "source": [
    "def SGD(X, zt, n_batches, n_epochs, t0, t1):\n",
    "    #Decreasing the \"length\" of the gradient with each step\n",
    "    learning_schedule = lambda t: t0/(t+t1)\n",
    "    #number of coloumns in design matrix=\n",
    "    #length of beta array\n",
    "    nc = len(X[0])\n",
    "    #size of mini-batches\n",
    "    w = len(zt)//n_batches\n",
    "    #Guessing initial beta values\n",
    "    Beta = np.random.randn(nc)\n",
    "\n",
    "\n",
    "    for k in range(n_epochs):\n",
    "        zs, X_s= shuffle(zt, X)\n",
    "        \n",
    "        for j in range(n_batches):\n",
    "            #creating mini-batches of length w\n",
    "            #We can use this indexing method, as opposed to random indeces, since\n",
    "            #we shuffle the values each epoch\n",
    "            z1, X_des = zs[w*j:w*(j+1)], X_s[w*j:w*(j+1),:]\n",
    "            #Updating learning rate\n",
    "            gamma = learning_schedule((k*n_batches+j))\n",
    "            #Computing the gradient of MSE cost func\n",
    "            grad = -2/len(z1)*X_des.T@(z1-X_des@Beta)\n",
    "            \n",
    "            #Computing the beta for OLS\n",
    "            Beta = Beta - gamma*grad\n",
    "    return Beta"
   ]
  },
  {
   "cell_type": "markdown",
   "metadata": {},
   "source": [
    "We test how well this SGD method work for polynomial degrees $d\\in [1, 15]$"
   ]
  },
  {
   "cell_type": "code",
   "execution_count": 8,
   "metadata": {},
   "outputs": [],
   "source": [
    "degrees = np.linspace(1, 15, 15)\n",
    "mse_sgd_train = np.zeros(len(degrees))\n",
    "mse_sgd_test = mse_sgd_train.copy()"
   ]
  },
  {
   "cell_type": "code",
   "execution_count": 9,
   "metadata": {},
   "outputs": [],
   "source": [
    "\n",
    "for i in range(len(degrees)):\n",
    "    X = X_d(i+1, x, y)\n",
    "    X_train, X_test, z_train, z_test = train_test_split(X, z)\n",
    "    X_train[:,1:], mu, sigma = Scaler(X_train)\n",
    "    X_test[:,1:] = (X_test[:,1:]-mu)/sigma\n",
    "    bet = SGD(X_train, z_train, 50, 1000, 3, 400)\n",
    "    \n",
    "    mse_sgd_train[i] = np.mean((z_train-X_train@bet)**2)\n",
    "    mse_sgd_test[i] = np.mean((z_test-X_test@bet)**2)\n",
    "    \n",
    "    \n"
   ]
  },
  {
   "cell_type": "code",
   "execution_count": 10,
   "metadata": {},
   "outputs": [
    {
     "data": {
      "text/plain": [
       "[]"
      ]
     },
     "execution_count": 10,
     "metadata": {},
     "output_type": "execute_result"
    },
    {
     "data": {
      "image/png": "[encoded data removed]",
      "text/plain": [
       "<Figure size 432x288 with 1 Axes>"
      ]
     },
     "metadata": {
      "needs_background": "light"
     },
     "output_type": "display_data"
    }
   ],
   "source": [
    "plt.plot(degrees, mse_sgd_train, label = \"mse train SGD\")\n",
    "plt.plot(degrees, mse_sgd_test, label = \"mse test SGD\")\n",
    "plt.xlabel(\"Polynomial degree\")\n",
    "plt.ylabel(\"MSE\")\n",
    "plt.title(\"MSE as a function polynomial degree, using SGD\")\n",
    "plt.legend()\n",
    "#plt.axis([0, degrees[-1], 0, 2])\n",
    "plt.plot()"
   ]
  },
  {
   "cell_type": "markdown",
   "metadata": {},
   "source": [
    "Now we can compare this to the analytical solution $\\beta=(X^T X)^{-1} X^T z$:"
   ]
  },
  {
   "cell_type": "code",
   "execution_count": 11,
   "metadata": {},
   "outputs": [],
   "source": [
    "\n",
    "mse_train = np.zeros(len(degrees))\n",
    "mse_test = mse_sgd_train.copy()"
   ]
  },
  {
   "cell_type": "code",
   "execution_count": 12,
   "metadata": {},
   "outputs": [],
   "source": [
    "\n",
    "for i in range(len(degrees)):\n",
    "    X = X_d(i+1, x, y)\n",
    "    X_train, X_test, z_train, z_test = train_test_split(X, z)\n",
    "    scaler = StandardScaler()\n",
    "    X_train_scaled = scaler.fit(X_train).transform(X_train)\n",
    "    X_test_scaled = scaler.transform(X_test)\n",
    "    bet = np.linalg.pinv(X_train.T@X_train)@X_train.T@z_train\n",
    "    mse_train[i] = np.mean((z_train-X_train@bet)**2)\n",
    "    mse_test[i] = np.mean((z_test-X_test@bet)**2)"
   ]
  },
  {
   "cell_type": "code",
   "execution_count": 13,
   "metadata": {},
   "outputs": [
    {
     "data": {
      "text/plain": [
       "[]"
      ]
     },
     "execution_count": 13,
     "metadata": {},
     "output_type": "execute_result"
    },
    {
     "data": {
      "image/png": "[encoded data removed]",
      "text/plain": [
       "<Figure size 432x288 with 1 Axes>"
      ]
     },
     "metadata": {
      "needs_background": "light"
     },
     "output_type": "display_data"
    }
   ],
   "source": [
    "plt.plot(degrees, mse_train, label = \"mse train analytical\")\n",
    "plt.plot(degrees, mse_test, label = \"mse test analytical\")\n",
    "plt.plot(degrees, mse_sgd_train, label = \"mse train SGD\")\n",
    "plt.plot(degrees, mse_sgd_test, label = \"mse test SGD\")\n",
    "plt.xlabel(\"Polynomial degree\")\n",
    "plt.ylabel(\"MSE\")\n",
    "plt.title(\"MSE as a function polynomial degree, comparing SGD to analytical solution\")\n",
    "plt.legend()\n",
    "#plt.axis([0, degrees[-1], 0, 2])\n",
    "plt.plot()"
   ]
  },
  {
   "cell_type": "markdown",
   "metadata": {},
   "source": [
    "As one would expect, the analytical solution is (for the most part) more precise. But this method (SGD) can be very useful in the cases where an analytical solution to \n",
    "\\begin{equation}\n",
    "\\frac{\\partial C(\\beta)}{\\partial\\beta}=0\n",
    "\\end{equation}\n",
    "is not known"
   ]
  },
  {
   "cell_type": "markdown",
   "metadata": {},
   "source": [
    "Now, we want to see how a feed forward neural network stacks up agains OLS:"
   ]
  },
  {
   "cell_type": "code",
   "execution_count": 16,
   "metadata": {},
   "outputs": [],
   "source": [
    "\n",
    "class NeuralNet:\n",
    "\n",
    "    def __init__(self, X_data, Y_data, layer_sizes, num_iters, eta, act, g, lam, mini, scaling):\n",
    "\n",
    "        from sklearn.model_selection import train_test_split\n",
    "        #Might be a good idea for the user to specify test_size when creating a NeuralNet object, but \n",
    "        #I'll leave that for later\n",
    "        self.X_train, self.X_test, self.Y_train, self.Y_test = train_test_split(X_data, Y_data, test_size = 0.2)\n",
    "        \n",
    "        if scaling == \"True\":\n",
    "            from sklearn.preprocessing import StandardScaler\n",
    "            scaler = StandardScaler()\n",
    "            self.X_train = scaler.fit(self.X_train).transform(X_train)\n",
    "            self.X_test = scaler.transform(X_test) \n",
    "        \n",
    "        self.layer_sizes = layer_sizes\n",
    "        self.num_iters = num_iters\n",
    "        self.eta = eta\n",
    "        #Defining the activation functions, and their derivatives right here. \n",
    "        if act == \"Sigmoid\":\n",
    "            self.act = lambda x: 1/(1+np.exp(-x))\n",
    "            self.d_act = lambda x: np.exp(-x)/(1+np.exp(-x))**2\n",
    "        elif act == \"RELU\":\n",
    "            self.act = lambda x: np.maximum(x, 0)\n",
    "            def d_act(x):\n",
    "                x[x<=0] = 0\n",
    "                x[x>0] = 1\n",
    "                return x\n",
    "            self.d_act = d_act\n",
    "        elif act == \"Leaky_RELU\":\n",
    "            self.act = lambda x: np.maximum(x, 0.01 * x)\n",
    "            def d_act(x):\n",
    "                alpha = 0.01\n",
    "                dx = np.ones_like(x)\n",
    "                dx[x < 0] = alpha\n",
    "                return dx\n",
    "            self.d_act = d_act\n",
    "            \n",
    "        #Variable that can take the value \"reg\" or \"clas\". Used to specify whether you want the\n",
    "        #network to perform regression or classification\n",
    "        self.g = g\n",
    "        #Ragularization parameter\n",
    "        self.lam = lam\n",
    "        self.mini = mini\n",
    "\n",
    "    \n",
    "    def initialize_params(self):\n",
    "        params = {}\n",
    "        #initializing the weights and biases with random values\n",
    "        #Could be nice to be able to specify intial weights and biases as arguments to the __init__ method,\n",
    "        #but that might be superfluous. Should investigate in detail how initialization affects the NN's learning\n",
    "        for i in range(1, len(self.layer_sizes)):\n",
    "            params[\"weight\" + str(i)] = np.random.randn(self.layer_sizes[i], self.layer_sizes[i-1])*0.01\n",
    "            params[\"bias\" + str(i)] = np.random.randn(self.layer_sizes[i],1)*0.01\n",
    "        return params\n",
    "\n",
    "    def feed_forward(self, params, X):\n",
    "        \"\"\"\n",
    "        The X-argument here (in this method) can either be training or test data.\n",
    "        When training the network, the \"model\" method will supply this method (feed_forward) with training data\n",
    "        \"\"\"\n",
    "        layers = len(params)//2\n",
    "        values = {}\n",
    "        \n",
    "\n",
    "        for i in range(1, layers+1):\n",
    "            #feeding data to the input layer\n",
    "            if i==1:\n",
    "                #input to node\n",
    "                values[\"z\" + str(i)] = np.dot(params[\"weight\" + str(i)], X.T) + params[\"bias\" + str(i)]\n",
    "                #activating node\n",
    "                values[\"a\" + str(i)] = self.act(values[\"z\" + str(i)])\n",
    "\n",
    "            #feeding forward to next layer(s)\n",
    "            else:\n",
    "                values[\"z\" + str(i)] = np.dot(params[\"weight\" + str(i)], values[\"a\" + str(i-1)]) + params[\"bias\" + str(i)]\n",
    "                #In the regression case: output values are equal to the input in the output layer\n",
    "                if i==layers and self.g == \"reg\":\n",
    "                    values[\"a\"+ str(i)] = values[\"z\" + str(i)]\n",
    "                #In the classification case: output values are probabilities of correct prediction\n",
    "                elif i==layers and self.g == \"clas\":\n",
    "                    a = self.act(values[\"z\" + str(i)])\n",
    "                    exp_term = np.exp(a)\n",
    "                    probabilities = exp_term / np.sum(exp_term, axis=1, keepdims=True)\n",
    "                    values[\"a\" + str(i)] = probabilities\n",
    "                #The activation is equal in both regression and classification, but\n",
    "                #one should test the different ones for the best case use\n",
    "                else:\n",
    "                    values[\"a\" + str(i)] = self.act(values[\"z\" + str(i)])\n",
    "        return values\n",
    "\n",
    "    def backprop(self, params, values):\n",
    "        layers = len(params)//2\n",
    "        m = len(self.Y_train)\n",
    "        grads = {}\n",
    "        #In the regression case:\n",
    "        if self.g == \"reg\":\n",
    "            #Starting at the output layer, going back\n",
    "            for i in range(layers,0,-1):\n",
    "                #Finding MSE of output layer\n",
    "                #Might add different cost function options\n",
    "                if i==layers:\n",
    "                    dA = 1/m * np.sum((values[\"a\" + str(i)] - self.Y_train)**2, axis=0, keepdims = True)\n",
    "                    dZ = dA\n",
    "                #Propage error backward\n",
    "                else:\n",
    "                    dA = np.dot(params[\"weight\" + str(i+1)].T, dZ)\n",
    "                    dZ = np.multiply(dA, self.d_act(values[\"a\" + str(i)]))\n",
    "                #If at input layer\n",
    "                if i==1:\n",
    "                    grads[\"weight\" + str(i)] = 1/m*np.dot(dZ, self.X_train)\n",
    "                    #Regularization term. If lam = 0: no regularization\n",
    "                    grads[\"weight\" + str(i)] += self.lam * params[\"weight\" + str(i)]\n",
    "                    grads[\"bias\" + str(i)] = 1/m*np.sum(dZ, axis=1, keepdims=True)\n",
    "                #Else at hidden hidden layer\n",
    "                else:\n",
    "                    grads[\"weight\" + str(i)] = 1/m*np.dot(dZ,values[\"a\" + str(i-1)].T)\n",
    "                    #Regularization term.\n",
    "                    grads[\"weight\" + str(i)] += self.lam * params[\"weight\" + str(i)]\n",
    "                    grads[\"bias\" + str(i)] = 1/m*np.sum(dZ, axis=1, keepdims=True)\n",
    "\n",
    "            return grads\n",
    "\n",
    "        #In the classification case:\n",
    "        elif self.g == \"clas\":\n",
    "            for i in range(layers,0,-1):\n",
    "                #First: calculate output error.\n",
    "                if i==layers:\n",
    "                    dA = values[\"a\" + str(i)] - self.Y_train.T\n",
    "                    dZ = dA\n",
    "                #Propagate error backwards through layers\n",
    "                else:\n",
    "                    dA = np.dot(params[\"weight\" + str(i+1)].T, dZ)\n",
    "                    dZ = dA @ self.act(values[\"a\" + str(i)]).T@(1-self.act(values[\"a\" + str(i)]))\n",
    "                #Input layer\n",
    "                if i==1:\n",
    "                    grads[\"weight\" + str(i)] = np.dot(dZ, self.X_train)\n",
    "                    #Regularization term.\n",
    "                    grads[\"weight\" + str(i)] += self.lam * params[\"weight\" + str(i)]\n",
    "                    grads[\"bias\" + str(i)] = np.sum(dZ, axis=1, keepdims=True)\n",
    "                #Hidden layer(s) if any\n",
    "                else:\n",
    "                    grads[\"weight\" + str(i)] = np.dot(dZ,values[\"a\" + str(i-1)].T)\n",
    "                    #Regularization term.\n",
    "                    grads[\"weight\" + str(i)] += self.lam * params[\"weight\" + str(i)]\n",
    "                    grads[\"bias\" + str(i)] = np.sum(dZ, axis=1, keepdims=True)\n",
    "            return grads\n",
    "\n",
    "    def update_params(self, params, grads):\n",
    "        layers = len(params)//2\n",
    "        params_updated = {}\n",
    "        #Updating the weights and biases by gradient descent\n",
    "        for i in range(1,layers+1):\n",
    "            params_updated[\"weight\" + str(i)] = params[\"weight\" + str(i)] - self.eta * grads[\"weight\" + str(i)]\n",
    "            params_updated[\"bias\" + str(i)] = params[\"bias\" + str(i)] - self.eta * grads[\"bias\" + str(i)]\n",
    "        return params_updated\n",
    "\n",
    "    def model(self):\n",
    "        params = NeuralNet.initialize_params(self)\n",
    "        #if using mini-batches:\n",
    "        min = mini[0]\n",
    "\n",
    "        if min == True:\n",
    "            \n",
    "            data_indices = len(self.X_train)\n",
    "            #Batch size as specified in the mini list argument\n",
    "            batch_size = int(self.mini[1])\n",
    "            #Number of epochs as specified in the mini list argument\n",
    "            epochs = int(self.mini[2])\n",
    "\n",
    "            for k in range(epochs):\n",
    "                acs = np.zeros(self.num_iters)\n",
    "                for i in range(self.num_iters):\n",
    "                    #Getting the accuracy/ error to check for overfitting\n",
    "                    train_acc, test_acc = NeuralNet.compute_accuracy(self, params)\n",
    "                    acs[i] = test_acc\n",
    "                    #Creating mini-batch incdices for the design/ feature matrix and targets\n",
    "                    #Might be a problem that we risk drawing same samples multiple times during one epoch. Don't know\n",
    "                    chosen_datapoints = np.random.choice(data_indices, size=batch_size, replace=False)\n",
    "                    #Creating a mini-batch\n",
    "                    X = self.X_train[chosen_datapoints]\n",
    "                    Y = self.Y_train[chosen_datapoints]\n",
    "\n",
    "                    #Train on mini batch\n",
    "                    values = NeuralNet.feed_forward(self, params, self.X_train)\n",
    "                    #Propagate error\n",
    "                    grads = NeuralNet.backprop(self, params, values)\n",
    "                    #Update weights and biases\n",
    "                    params = NeuralNet.update_params(self, params, grads)\n",
    "                    #In case of overfitting. Sloppy fix. Needs replacements.\n",
    "                    if i>=1 and acs[i]>acs[i-1]:\n",
    "                        break\n",
    "                    #Might use if i>=1 and abs(acs[i]-acs[i-1]>some_value:\n",
    "                        #break\n",
    "                    #Would need testing. Reluctant to introduce another adjustable parameter.\n",
    "\n",
    "        elif min == False:\n",
    "            #Training the netowrk\n",
    "            for i in range(self.num_iters):\n",
    "                values = NeuralNet.feed_forward(self, params, self.X_train)\n",
    "                grads = NeuralNet.backprop(self, params, values)\n",
    "                params = NeuralNet.update_params(self, params, grads)\n",
    "\n",
    "        return params\n",
    "\n",
    "    def compute_accuracy(self, params):\n",
    "\n",
    "        #Getting network's predictions from the test and training data\n",
    "        values_train = NeuralNet.feed_forward(self, params, self.X_train)\n",
    "        values_test = NeuralNet.feed_forward(self, params, self.X_test)\n",
    "\n",
    "        #In the case of regression we use MSE as a measure of error\n",
    "        #Might update to allow different cost functions\n",
    "\n",
    "        if self.g == \"reg\":\n",
    "            train_acc = np.mean((self.Y_train - values_train[\"a\" + str(len(layer_sizes)-1)].T)**2)\n",
    "            test_acc = np.mean((self.Y_test - values_test[\"a\" + str(len(layer_sizes)-1)].T)**2)\n",
    "            return train_acc, test_acc\n",
    "        #In the case of classification we use percentage/100 of correctly predicted values\n",
    "        elif self.g == \"clas\":\n",
    "            train_acc = 0\n",
    "            for i in range(len(self.Y_train)):\n",
    "                #Finding the true value\n",
    "                true = np.argmax(self.Y_train[i])\n",
    "                #Finding training value with highest probability\n",
    "                pred = np.argmax(values_train[\"a\" + str(len(layer_sizes)-1)].T[i])\n",
    "\n",
    "                if true == pred:\n",
    "                    train_acc += 1\n",
    "                else:\n",
    "                    continue\n",
    "            #percentage of correct predictions (divided by 100)\n",
    "            train_acc /= len(self.Y_train)\n",
    "\n",
    "            #Test accuracy\n",
    "            #Same as for the training error/ accuracy\n",
    "            test_acc = 0\n",
    "            for i in range(len(self.Y_test)):\n",
    "                true = np.argmax(self.Y_test[i])\n",
    "                pred = np.argmax(values_test[\"a\" + str(len(layer_sizes)-1)].T[i])\n",
    "                if true == pred:\n",
    "                    test_acc += 1\n",
    "                else:\n",
    "                    continue\n",
    "            test_acc /= len(self.Y_test)\n",
    "\n",
    "            return train_acc,  test_acc\n",
    "\n",
    "    def predict(self, x):\n",
    "        params = NeuralNet.model(self)\n",
    "        feed = NeuralNet.feed_forward(self, params, x)\n",
    "        if self.g == \"clas\":\n",
    "            \n",
    "            pred = np.argmax(feed[\"a\" + str(len(self.layer_sizes)-1)][-1])\n",
    "            \n",
    "            return pred\n",
    "        elif self.g == \"reg\":\n",
    "            pred = feed[\"a\" + str(len(self.layer_sizes)-1)]\n",
    "            return pred\n",
    "\n"
   ]
  },
  {
   "cell_type": "markdown",
   "metadata": {},
   "source": [
    "Now, we can use this network to perform regression."
   ]
  },
  {
   "cell_type": "code",
   "execution_count": 131,
   "metadata": {},
   "outputs": [],
   "source": [
    "mse_train = np.zeros(len(degrees))\n",
    "mse_test = mse_sgd_train.copy()\n",
    "\n",
    "num_iters = 1000\n",
    "eta = 10**(-4)\n",
    "act = \"Sigmoid\"\n",
    "g = \"reg\"\n",
    "lam = 0.01\n",
    "mini = [False]\n",
    "\n",
    "for i in range(len(degrees)):\n",
    "    X = X_d(i+1, x, y)\n",
    "    h = len(X[0])\n",
    "    layer_sizes = [h, h//2, 1]\n",
    "    \n",
    "    Network = NeuralNet(X, z, layer_sizes, num_iters, eta, act, g, lam, mini, scaling = True)\n",
    "    #X_data, Y_data, layer_sizes, num_iters, eta, act, g, lam, mini\n",
    "    params = Network.model()\n",
    "    mse_train[i], mse_test[i] = Network.compute_accuracy(params)\n",
    "    \n"
   ]
  },
  {
   "cell_type": "code",
   "execution_count": 133,
   "metadata": {},
   "outputs": [
    {
     "data": {
      "image/png": "[encoded data removed]",
      "text/plain": [
       "<Figure size 432x288 with 1 Axes>"
      ]
     },
     "metadata": {
      "needs_background": "light"
     },
     "output_type": "display_data"
    }
   ],
   "source": [
    "plt.plot(degrees, mse_train, label = \"train\")\n",
    "plt.plot(degrees, mse_test, label = \"test\")\n",
    "plt.xlabel(\"Polynomial degree\")\n",
    "plt.ylabel(\"MSE\")\n",
    "plt.title(\"MSE as a function of degree, FFNN\")\n",
    "plt.legend()\n",
    "plt.show()"
   ]
  },
  {
   "cell_type": "markdown",
   "metadata": {
    "scrolled": true
   },
   "source": [
    "This is naturally just one of many possible results. The network is dependent upon many hyper parameters, and we could, if we wanted, search for the best ones. But this is more proof-of-concept, than model optimizing. "
   ]
  },
  {
   "cell_type": "markdown",
   "metadata": {},
   "source": [
    "Now that we have a working NN, we can also use it for classification. We choose to work on the MNIST dataset (http://yann.lecun.com/exdb/mnist/)."
   ]
  },
  {
   "cell_type": "code",
   "execution_count": 17,
   "metadata": {},
   "outputs": [
    {
     "name": "stdout",
     "output_type": "stream",
     "text": [
      "[0 1 2 ... 8 9 8]\n"
     ]
    }
   ],
   "source": [
    "from sklearn import datasets\n",
    "\n",
    "\n",
    "\n",
    "# ensure the same random numbers appear every time\n",
    "np.random.seed(0)\n",
    "\n",
    "# download MNIST dataset\n",
    "digits = datasets.load_digits()\n",
    "\n",
    "# define inputs and labels\n",
    "inputs = digits.images\n",
    "labels = digits.target\n",
    "\n",
    "\n",
    "num_iters = 5000\n",
    "eta = 10e-6\n",
    "#activation function. Choose between \"Sigmoid\", \"RELU\", and \"Leaky_RELU\"\n",
    "act = \"Sigmoid\"\n",
    "#g = \"reg\" means regression. g=\"clas\" means classification\n",
    "g = \"clas\"\n",
    "#regularization parameter\n",
    "lam = 0.01\n",
    "#Whether to use mini-batches. mini = [True/ False, n_batches, n_epochs]\n",
    "#If no mini-batch: mini = [False]\n",
    "mini = [False]\n",
    "\n",
    "\n",
    "print(labels)\n"
   ]
  },
  {
   "cell_type": "markdown",
   "metadata": {},
   "source": [
    "Since the labels are just a list of values from 0 to 9, we can make use of one-hot encoding on labels:"
   ]
  },
  {
   "cell_type": "code",
   "execution_count": 18,
   "metadata": {},
   "outputs": [],
   "source": [
    "def to_categorical_numpy(integer_vector):\n",
    "    n_inputs = len(integer_vector)\n",
    "    n_categories = np.max(integer_vector) + 1\n",
    "    onehot_vector = np.zeros((n_inputs, n_categories))\n",
    "    onehot_vector[range(n_inputs), integer_vector] = 1\n",
    "\n",
    "    return onehot_vector\n",
    "\n",
    "\n"
   ]
  },
  {
   "cell_type": "code",
   "execution_count": 19,
   "metadata": {},
   "outputs": [],
   "source": [
    "n_inputs = len(inputs)\n",
    "inputs = inputs.reshape(n_inputs, -1)\n",
    "X = inputs\n",
    "Y = to_categorical_numpy(labels)\n",
    "#Number of input nodes. Must match number of features in X\n",
    "in_size = len(X[0])\n",
    "#Size of output layer of neural netfork\n",
    "out_size = len(Y[0])\n",
    "#Again: leave mini-batch at False. Please, for the love of GOD do not set it to TRUE\n",
    "mini = [False, 10, 500]\n",
    "layer_sizes = [in_size, out_size]\n",
    "#Architecture the was found (by trial and error) to best work in this with this data\n",
    "#layer_sizes = [input_layer, hidden_layer_1, ..., hidden_layer_n, outputlayer]\n",
    "\n",
    "#List of possible activation functions\n",
    "funcs = [\"Sigmoid\", \"RELU\", \"Leaky_RELU\"]\n",
    "\n",
    "Network = NeuralNet(X, Y, layer_sizes, num_iters, eta, act, g, lam, mini, False)\n",
    "#X_data, Y_data, layer_sizes, num_iters, eta, act, g, lam, mini\n",
    "params = Network.model()\n"
   ]
  },
  {
   "cell_type": "code",
   "execution_count": 20,
   "metadata": {},
   "outputs": [
    {
     "name": "stdout",
     "output_type": "stream",
     "text": [
      "training accuracy = 0.990953\n",
      "test accuracy = 0.961111\n"
     ]
    }
   ],
   "source": [
    "ac1, ac2 = Network.compute_accuracy(params)\n",
    "print(\"training accuracy = %f\" %ac1)\n",
    "print(\"test accuracy = %f\" %ac2)\n",
    "\n"
   ]
  },
  {
   "cell_type": "markdown",
   "metadata": {},
   "source": [
    "A fairly good result, if I may so so myself. Could possibly be improved."
   ]
  },
  {
   "cell_type": "markdown",
   "metadata": {},
   "source": [
    "[1] https://github.com/magnuhag/Prosjekt1_fys-stk-3155/blob/master/Project%201%20FYS.pdf\n",
    "<br>\n",
    "[2] https://en.wikipedia.org/wiki/Newton%27s_method\n",
    "<br>\n",
    "[3] https://github.com/CompPhysics/MachineLearning/blob/master/doc/pub/week40/ipynb/week40.ipynb\n",
    "<br>\n",
    "[4] https://github.com/CompPhysics/MachineLearning/blob/master/doc/pub/week41/ipynb/week41.ipynb\n",
    "<br>\n",
    "[5] https://adventuresinmachinelearning.com/stochastic-gradient-descent/\n",
    "\n"
   ]
  },
  {
   "cell_type": "code",
   "execution_count": null,
   "metadata": {},
   "outputs": [],
   "source": []
  }
 ],
 "metadata": {
  "kernelspec": {
   "display_name": "Python 3",
   "language": "python",
   "name": "python3"
  },
  "language_info": {
   "codemirror_mode": {
    "name": "ipython",
    "version": 3
   },
   "file_extension": ".py",
   "mimetype": "text/x-python",
   "name": "python",
   "nbconvert_exporter": "python",
   "pygments_lexer": "ipython3",
   "version": "3.6.7"
  }
 },
 "nbformat": 4,
 "nbformat_minor": 2
}
